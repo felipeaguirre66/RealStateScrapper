{
  "nbformat": 4,
  "nbformat_minor": 0,
  "metadata": {
    "colab": {
      "provenance": [],
      "collapsed_sections": [
        "4f6Zw67T6Swn",
        "6na2k-OV6Oi5"
      ],
      "authorship_tag": "ABX9TyPVfBwyyah7pQ1kYnIS+m+H",
      "include_colab_link": true
    },
    "kernelspec": {
      "name": "python3",
      "display_name": "Python 3"
    },
    "language_info": {
      "name": "python"
    }
  },
  "cells": [
    {
      "cell_type": "markdown",
      "metadata": {
        "id": "view-in-github",
        "colab_type": "text"
      },
      "source": [
        "<a href=\"https://colab.research.google.com/github/felipeaguirre66/RealStateScrapper/blob/main/query_real_state.ipynb\" target=\"_parent\"><img src=\"https://colab.research.google.com/assets/colab-badge.svg\" alt=\"Open In Colab\"/></a>"
      ]
    },
    {
      "cell_type": "markdown",
      "source": [
        "# **Query Real State Database**\n",
        "\n",
        "Este código permite consultar los datos ubicados en la base de datos. Al final de la consulta, se descargará un excel con los resultados.\n",
        "\n",
        "## **Como utilizarlo**:\n",
        "\n",
        "1. Si es la primera vez, pegue el link a la base de datos del último casillero.\n",
        "2. En el primer casillero, coloque los valores que desea filtrar en la consulta: \n",
        "  *   A la derecha en verde estan algunos valores de referencia. Los que NO comienzan con \"ej:\" significa que son los únicos valores permitidos.\n",
        "  *   Copie el formato de los valores de referenecia (entre corchetes, entre comillas, separados por coma).\n",
        "\n",
        "3. En el menú de arriba, elija \"Entorno de ejecución\" y luego \"Ejecutar todas\".\n",
        "\n",
        "4. Puede pedirle que le de acceso a su cuenta de google, hágalo.\n",
        "\n",
        "\n"
      ],
      "metadata": {
        "id": "ySGFRzSgnURG"
      }
    },
    {
      "cell_type": "code",
      "source": [
        "query_dict = {\n",
        "              \n",
        "              'service':[],                 # argen_prop, mercado_libre, zona_prop\n",
        "              'city':[],                    # ej: ['olivos','palermo']\n",
        "              'adress':[''],                # ej: ['libertador']\n",
        "              'property_type':[],           # casa, departamento\n",
        "              'contract_type':[],           # venta, alquiler\n",
        "              'rooms':[8,100],              # ej: [2,10]\n",
        "              'squared_meters':[0,500],     # ej: [40,100]\n",
        "              'buy_rent_currency':[],       # USD, $\n",
        "              'expensas_currency':[],       # USD, $\n",
        "              'buy_rent_price':[],          # ej: [10000, 90000]\n",
        "              'expensas_price':[],          # ej: [10000, 90000]\n",
        "              'total_price':[0,80000000]    # ej: [10000, 90000]\n",
        "    }"
      ],
      "metadata": {
        "id": "04Km3rJRXyvR"
      },
      "execution_count": null,
      "outputs": []
    },
    {
      "cell_type": "markdown",
      "source": [
        "# Imports and functions"
      ],
      "metadata": {
        "id": "4f6Zw67T6Swn"
      }
    },
    {
      "cell_type": "code",
      "execution_count": null,
      "metadata": {
        "id": "PM3P9fJV17i6",
        "colab": {
          "base_uri": "https://localhost:8080/"
        },
        "outputId": "55d8ddf3-fcf0-4927-ef69-f3f55df931ee"
      },
      "outputs": [
        {
          "output_type": "stream",
          "name": "stdout",
          "text": [
            "Looking in indexes: https://pypi.org/simple, https://us-python.pkg.dev/colab-wheels/public/simple/\n",
            "Requirement already satisfied: unidecode in /usr/local/lib/python3.8/dist-packages (1.3.6)\n"
          ]
        }
      ],
      "source": [
        "# Installs for Google Sheet connection\n",
        "import gspread\n",
        "import google.auth\n",
        "from google.colab import auth\n",
        "from google.colab import files\n",
        "from google.auth import default\n",
        "!pip install --upgrade -q pygsheets\n",
        "import pygsheets\n",
        "\n",
        "# Authenticate in drive\n",
        "auth.authenticate_user()\n",
        "creds, _ = default()\n",
        "gc = gspread.authorize(creds)\n",
        "\n",
        "# Other imports\n",
        "!pip install unidecode\n",
        "import unidecode\n",
        "import pandas as pd\n",
        "\n",
        "\n",
        "# Helper functions\n",
        "def open_sheet(link_db):\n",
        "  gc = pygsheets.client.Client(creds)\n",
        "  sh = gc.open_by_url(link_db)\n",
        "  worksheet = sh.worksheets()[-1]\n",
        "  data = worksheet.get_all_values(returnas='matrix')\n",
        "  df = pd.DataFrame(data[1:], columns=data[0])\n",
        "  return df\n",
        "\n",
        "def preprocess_df(df):\n",
        "  df_raw = df.copy()\n",
        "\n",
        "  df_raw['city'] = df_raw['city'].apply(lambda x: pp_text(x))\n",
        "  df_raw['adress'] = df_raw['adress'].apply(lambda x: pp_text(x))\n",
        "\n",
        "  df_raw['rooms'] = df_raw['rooms'].replace('',0).astype(float)\n",
        "  df_raw['squared_meters'] = df_raw['squared_meters'].replace('',0).astype(float)\n",
        "  df_raw['buy_rent_price'] = df_raw['buy_rent_price'].replace(['','consult_price'],0).astype(float)\n",
        "  df_raw['expensas_price'] = df_raw['expensas_price'].replace(['','consult_price'],0).astype(float)\n",
        "  df_raw['total_price'] = df_raw['total_price'].replace(['','consult_priceconsult_price'],0).astype(float)\n",
        "\n",
        "  return df_raw\n",
        "\n",
        "def pp_text(text):\n",
        "  return unidecode.unidecode(text.lower().strip())\n",
        "\n",
        "def query_database(pp_df, query_dict):\n",
        "  df_query = pp_df.copy()\n",
        "  for key, value in query_dict.items():\n",
        "    indices_coincidencia = []\n",
        "    if len(value)>0:\n",
        "\n",
        "      if type(value[0])==str: # String columns\n",
        "        for query_val in value:\n",
        "          indices_coincidencia.extend([i for i,x in enumerate(df_query[key].values) if pp_text(query_val) in x])\n",
        "        df_query = df_query.iloc[indices_coincidencia]\n",
        "      \n",
        "      else: # int columns\n",
        "        indices_coincidencia.extend([i for i,x in enumerate(df_query[key].values) if x >= value[0] and x <= value[1]])  \n",
        "        df_query = df_query.iloc[indices_coincidencia]\n",
        "  return df_query\n",
        "\n",
        "  \n",
        "# Download\n",
        "def download_df(df, name):\n",
        "  df_final.to_excel(name, index=False)\n",
        "  files.download(name)"
      ]
    },
    {
      "cell_type": "markdown",
      "source": [
        "# Query Database"
      ],
      "metadata": {
        "id": "6na2k-OV6Oi5"
      }
    },
    {
      "cell_type": "code",
      "source": [
        "link_db = 'https://docs.google.com/spreadsheets/d/182xWzXJ6HQ6f8DwKkS78dSt_4psjic_NP7FJVy4-h7I/edit#gid=0'\n",
        "\n",
        "df = open_sheet(link_db) # Read df\n",
        "pp_df = preprocess_df(df) # Preprocess df\n",
        "df_query = query_database(pp_df, query_dict) # Query df\n",
        "df_final = df.iloc[df_query.index] # Get original values\n",
        "download_df(df_final, 'archivo_final.xlsx')"
      ],
      "metadata": {
        "id": "DDYQb0913QNs",
        "colab": {
          "base_uri": "https://localhost:8080/"
        },
        "outputId": "0404415f-560b-4369-9285-0fe6bad43f6f"
      },
      "execution_count": null,
      "outputs": [
        {
          "output_type": "display_data",
          "data": {
            "text/plain": [
              "<IPython.core.display.Javascript object>"
            ],
            "application/javascript": [
              "\n",
              "    async function download(id, filename, size) {\n",
              "      if (!google.colab.kernel.accessAllowed) {\n",
              "        return;\n",
              "      }\n",
              "      const div = document.createElement('div');\n",
              "      const label = document.createElement('label');\n",
              "      label.textContent = `Downloading \"${filename}\": `;\n",
              "      div.appendChild(label);\n",
              "      const progress = document.createElement('progress');\n",
              "      progress.max = size;\n",
              "      div.appendChild(progress);\n",
              "      document.body.appendChild(div);\n",
              "\n",
              "      const buffers = [];\n",
              "      let downloaded = 0;\n",
              "\n",
              "      const channel = await google.colab.kernel.comms.open(id);\n",
              "      // Send a message to notify the kernel that we're ready.\n",
              "      channel.send({})\n",
              "\n",
              "      for await (const message of channel.messages) {\n",
              "        // Send a message to notify the kernel that we're ready.\n",
              "        channel.send({})\n",
              "        if (message.buffers) {\n",
              "          for (const buffer of message.buffers) {\n",
              "            buffers.push(buffer);\n",
              "            downloaded += buffer.byteLength;\n",
              "            progress.value = downloaded;\n",
              "          }\n",
              "        }\n",
              "      }\n",
              "      const blob = new Blob(buffers, {type: 'application/binary'});\n",
              "      const a = document.createElement('a');\n",
              "      a.href = window.URL.createObjectURL(blob);\n",
              "      a.download = filename;\n",
              "      div.appendChild(a);\n",
              "      a.click();\n",
              "      div.remove();\n",
              "    }\n",
              "  "
            ]
          },
          "metadata": {}
        },
        {
          "output_type": "display_data",
          "data": {
            "text/plain": [
              "<IPython.core.display.Javascript object>"
            ],
            "application/javascript": [
              "download(\"download_b33f74db-4505-400e-9c2a-0641d3803611\", \"archivo_final.xlsx\", 6812)"
            ]
          },
          "metadata": {}
        }
      ]
    }
  ]
}