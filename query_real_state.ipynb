{
  "nbformat": 4,
  "nbformat_minor": 0,
  "metadata": {
    "colab": {
      "provenance": [],
      "authorship_tag": "ABX9TyN400edU5hRxnHq9oLAIBW0",
      "include_colab_link": true
    },
    "kernelspec": {
      "name": "python3",
      "display_name": "Python 3"
    },
    "language_info": {
      "name": "python"
    }
  },
  "cells": [
    {
      "cell_type": "markdown",
      "metadata": {
        "id": "view-in-github",
        "colab_type": "text"
      },
      "source": [
        "<a href=\"https://colab.research.google.com/github/felipeaguirre66/RealStateScrapper/blob/main/query_real_state.ipynb\" target=\"_parent\"><img src=\"https://colab.research.google.com/assets/colab-badge.svg\" alt=\"Open In Colab\"/></a>"
      ]
    },
    {
      "cell_type": "markdown",
      "source": [
        "# Imports"
      ],
      "metadata": {
        "id": "4f6Zw67T6Swn"
      }
    },
    {
      "cell_type": "code",
      "execution_count": 139,
      "metadata": {
        "id": "PM3P9fJV17i6"
      },
      "outputs": [],
      "source": [
        "# Installs for Google Sheet connection\n",
        "import gspread\n",
        "import google.auth\n",
        "from google.colab import auth\n",
        "from google.colab import files\n",
        "from google.auth import default\n",
        "!pip install --upgrade -q pygsheets\n",
        "import pygsheets\n",
        "\n",
        "# Authenticate in drive\n",
        "auth.authenticate_user()\n",
        "creds, _ = default()\n",
        "gc = gspread.authorize(creds)\n",
        "\n",
        "# Other imports\n",
        "!pip install unidecode\n",
        "import unidecode\n",
        "import pandas as pd\n",
        "\n",
        "# Authenticate in drive\n",
        "auth.authenticate_user()\n",
        "creds, _ = default()\n",
        "gc = gspread.authorize(creds)\n",
        "\n",
        "# Helpers\n",
        "def open_sheet(link_db):\n",
        "  gc = pygsheets.client.Client(creds)\n",
        "  sh = gc.open_by_url(link_db)\n",
        "  worksheet = sh.worksheets()[-1]\n",
        "\n",
        "  # Read all the data from the worksheet\n",
        "  data = worksheet.get_all_values(returnas='matrix')\n",
        "\n",
        "  # Load the data into a pandas DataFrame\n",
        "  df = pd.DataFrame(data[1:], columns=data[0])\n",
        "\n",
        "  return df\n",
        "\n",
        "def preprocess_df(df):\n",
        "  df_raw = df.copy()\n",
        "  df_raw['city'] = df_raw['city'].apply(lambda x: unidecode.unidecode(x.lower().strip()))\n",
        "  df_raw['adress'] = df_raw['adress'].apply(lambda x: unidecode.unidecode(x.lower().strip()))\n",
        "\n",
        "  df_raw['rooms'] = df_raw['rooms'].astype(float)\n",
        "  df_raw['squared_meters'] = df_raw['squared_meters'].astype(float)\n",
        "  df_raw['buy_rent_price'] = df_raw['buy_rent_price'].astype(float)\n",
        "  df_raw['expensas_price'] = df_raw['expensas_price'].astype(float)\n",
        "  df_raw['total_price'] = df_raw['total_price'].astype(float)\n",
        "\n",
        "  return df_raw"
      ]
    },
    {
      "cell_type": "markdown",
      "source": [
        "# Query Database"
      ],
      "metadata": {
        "id": "6na2k-OV6Oi5"
      }
    },
    {
      "cell_type": "code",
      "source": [
        "link_db = 'https://docs.google.com/spreadsheets/d/1H3D2xBKoXIxh3k-gJqjXmWC-50fNUT58lXutkZhwo20/edit#gid=0'"
      ],
      "metadata": {
        "id": "DDYQb0913QNs"
      },
      "execution_count": 3,
      "outputs": []
    },
    {
      "cell_type": "code",
      "source": [
        "df = open_sheet(link_db) # Read df"
      ],
      "metadata": {
        "id": "7JEDhlOI6FSj"
      },
      "execution_count": 140,
      "outputs": []
    },
    {
      "cell_type": "code",
      "source": [
        "pp_df = preprocess_df(df) # Preprocess df"
      ],
      "metadata": {
        "id": "MF9v3yoX899u"
      },
      "execution_count": 141,
      "outputs": []
    },
    {
      "cell_type": "code",
      "source": [
        "query_dict = {\n",
        "              'service':[''],\n",
        "              'city':[''],\n",
        "              'adress':[''],\n",
        "              'property_type':['casa'],\n",
        "              'contract_type':['venta'],\n",
        "              'rooms':[[3,6]],\n",
        "              'squared_meters':[[200,1000]],\n",
        "              'buy_rent_currency':['USD'],\n",
        "              'expensas_currency':[],\n",
        "              'buy_rent_price':[],\n",
        "              'expensas_price':[],\n",
        "              'total_price':[[0,50000]]\n",
        "            }"
      ],
      "metadata": {
        "id": "VlGL2BCy6cXf"
      },
      "execution_count": 196,
      "outputs": []
    },
    {
      "cell_type": "code",
      "source": [
        "df_query = pp_df.copy()\n",
        "for key, value in query_dict.items():\n",
        "  indices_coincidencia = []\n",
        "  if len(value)>0:\n",
        "\n",
        "    if type(value[0])==str: # String columns\n",
        "      for query_val in value:\n",
        "        indices_coincidencia.extend([i for i,x in enumerate(df_query[key].values) if query_val in x])\n",
        "      df_query = df_query.iloc[indices_coincidencia]\n",
        "    \n",
        "    else:\n",
        "      for query_val in value:\n",
        "        indices_coincidencia.extend([i for i,x in enumerate(df_query[key].values) if x >= query_val[0] and x <= query_val[1]])\n",
        "      df_query = df_query.iloc[indices_coincidencia]"
      ],
      "metadata": {
        "id": "6knp2b5wBTHu"
      },
      "execution_count": 197,
      "outputs": []
    },
    {
      "cell_type": "code",
      "source": [
        "df_query[['link','city','service','adress','property_type','rooms','squared_meters','buy_rent_currency','total_price']]"
      ],
      "metadata": {
        "colab": {
          "base_uri": "https://localhost:8080/",
          "height": 191
        },
        "id": "NodfucepGcqk",
        "outputId": "79cd32a7-54ad-4774-be4a-bc8be61546fa"
      },
      "execution_count": 204,
      "outputs": [
        {
          "output_type": "execute_result",
          "data": {
            "text/plain": [
              "                                                  link  \\\n",
              "233  https://casa.mercadolibre.com.ar/MLA-134768016...   \n",
              "240  https://casa.mercadolibre.com.ar/MLA-134626613...   \n",
              "\n",
              "                                                  city        service  \\\n",
              "233  calle 58 1405, mar del tuyu, provincia de buen...  mercado_libre   \n",
              "240  presidente nestor kirchner 11300, carlos spega...  mercado_libre   \n",
              "\n",
              "                               adress property_type  rooms  squared_meters  \\\n",
              "233                     calle 58 1405          casa    2.0            40.0   \n",
              "240  presidente nestor kirchner 11300          casa    3.0            80.0   \n",
              "\n",
              "    buy_rent_currency  total_price  \n",
              "233               USD      25000.0  \n",
              "240               USD      46000.0  "
            ],
            "text/html": [
              "\n",
              "  <div id=\"df-22d94611-2bb0-4aae-9567-3f23fb7f183d\">\n",
              "    <div class=\"colab-df-container\">\n",
              "      <div>\n",
              "<style scoped>\n",
              "    .dataframe tbody tr th:only-of-type {\n",
              "        vertical-align: middle;\n",
              "    }\n",
              "\n",
              "    .dataframe tbody tr th {\n",
              "        vertical-align: top;\n",
              "    }\n",
              "\n",
              "    .dataframe thead th {\n",
              "        text-align: right;\n",
              "    }\n",
              "</style>\n",
              "<table border=\"1\" class=\"dataframe\">\n",
              "  <thead>\n",
              "    <tr style=\"text-align: right;\">\n",
              "      <th></th>\n",
              "      <th>link</th>\n",
              "      <th>city</th>\n",
              "      <th>service</th>\n",
              "      <th>adress</th>\n",
              "      <th>property_type</th>\n",
              "      <th>rooms</th>\n",
              "      <th>squared_meters</th>\n",
              "      <th>buy_rent_currency</th>\n",
              "      <th>total_price</th>\n",
              "    </tr>\n",
              "  </thead>\n",
              "  <tbody>\n",
              "    <tr>\n",
              "      <th>233</th>\n",
              "      <td>https://casa.mercadolibre.com.ar/MLA-134768016...</td>\n",
              "      <td>calle 58 1405, mar del tuyu, provincia de buen...</td>\n",
              "      <td>mercado_libre</td>\n",
              "      <td>calle 58 1405</td>\n",
              "      <td>casa</td>\n",
              "      <td>2.0</td>\n",
              "      <td>40.0</td>\n",
              "      <td>USD</td>\n",
              "      <td>25000.0</td>\n",
              "    </tr>\n",
              "    <tr>\n",
              "      <th>240</th>\n",
              "      <td>https://casa.mercadolibre.com.ar/MLA-134626613...</td>\n",
              "      <td>presidente nestor kirchner 11300, carlos spega...</td>\n",
              "      <td>mercado_libre</td>\n",
              "      <td>presidente nestor kirchner 11300</td>\n",
              "      <td>casa</td>\n",
              "      <td>3.0</td>\n",
              "      <td>80.0</td>\n",
              "      <td>USD</td>\n",
              "      <td>46000.0</td>\n",
              "    </tr>\n",
              "  </tbody>\n",
              "</table>\n",
              "</div>\n",
              "      <button class=\"colab-df-convert\" onclick=\"convertToInteractive('df-22d94611-2bb0-4aae-9567-3f23fb7f183d')\"\n",
              "              title=\"Convert this dataframe to an interactive table.\"\n",
              "              style=\"display:none;\">\n",
              "        \n",
              "  <svg xmlns=\"http://www.w3.org/2000/svg\" height=\"24px\"viewBox=\"0 0 24 24\"\n",
              "       width=\"24px\">\n",
              "    <path d=\"M0 0h24v24H0V0z\" fill=\"none\"/>\n",
              "    <path d=\"M18.56 5.44l.94 2.06.94-2.06 2.06-.94-2.06-.94-.94-2.06-.94 2.06-2.06.94zm-11 1L8.5 8.5l.94-2.06 2.06-.94-2.06-.94L8.5 2.5l-.94 2.06-2.06.94zm10 10l.94 2.06.94-2.06 2.06-.94-2.06-.94-.94-2.06-.94 2.06-2.06.94z\"/><path d=\"M17.41 7.96l-1.37-1.37c-.4-.4-.92-.59-1.43-.59-.52 0-1.04.2-1.43.59L10.3 9.45l-7.72 7.72c-.78.78-.78 2.05 0 2.83L4 21.41c.39.39.9.59 1.41.59.51 0 1.02-.2 1.41-.59l7.78-7.78 2.81-2.81c.8-.78.8-2.07 0-2.86zM5.41 20L4 18.59l7.72-7.72 1.47 1.35L5.41 20z\"/>\n",
              "  </svg>\n",
              "      </button>\n",
              "      \n",
              "  <style>\n",
              "    .colab-df-container {\n",
              "      display:flex;\n",
              "      flex-wrap:wrap;\n",
              "      gap: 12px;\n",
              "    }\n",
              "\n",
              "    .colab-df-convert {\n",
              "      background-color: #E8F0FE;\n",
              "      border: none;\n",
              "      border-radius: 50%;\n",
              "      cursor: pointer;\n",
              "      display: none;\n",
              "      fill: #1967D2;\n",
              "      height: 32px;\n",
              "      padding: 0 0 0 0;\n",
              "      width: 32px;\n",
              "    }\n",
              "\n",
              "    .colab-df-convert:hover {\n",
              "      background-color: #E2EBFA;\n",
              "      box-shadow: 0px 1px 2px rgba(60, 64, 67, 0.3), 0px 1px 3px 1px rgba(60, 64, 67, 0.15);\n",
              "      fill: #174EA6;\n",
              "    }\n",
              "\n",
              "    [theme=dark] .colab-df-convert {\n",
              "      background-color: #3B4455;\n",
              "      fill: #D2E3FC;\n",
              "    }\n",
              "\n",
              "    [theme=dark] .colab-df-convert:hover {\n",
              "      background-color: #434B5C;\n",
              "      box-shadow: 0px 1px 3px 1px rgba(0, 0, 0, 0.15);\n",
              "      filter: drop-shadow(0px 1px 2px rgba(0, 0, 0, 0.3));\n",
              "      fill: #FFFFFF;\n",
              "    }\n",
              "  </style>\n",
              "\n",
              "      <script>\n",
              "        const buttonEl =\n",
              "          document.querySelector('#df-22d94611-2bb0-4aae-9567-3f23fb7f183d button.colab-df-convert');\n",
              "        buttonEl.style.display =\n",
              "          google.colab.kernel.accessAllowed ? 'block' : 'none';\n",
              "\n",
              "        async function convertToInteractive(key) {\n",
              "          const element = document.querySelector('#df-22d94611-2bb0-4aae-9567-3f23fb7f183d');\n",
              "          const dataTable =\n",
              "            await google.colab.kernel.invokeFunction('convertToInteractive',\n",
              "                                                     [key], {});\n",
              "          if (!dataTable) return;\n",
              "\n",
              "          const docLinkHtml = 'Like what you see? Visit the ' +\n",
              "            '<a target=\"_blank\" href=https://colab.research.google.com/notebooks/data_table.ipynb>data table notebook</a>'\n",
              "            + ' to learn more about interactive tables.';\n",
              "          element.innerHTML = '';\n",
              "          dataTable['output_type'] = 'display_data';\n",
              "          await google.colab.output.renderOutput(dataTable, element);\n",
              "          const docLink = document.createElement('div');\n",
              "          docLink.innerHTML = docLinkHtml;\n",
              "          element.appendChild(docLink);\n",
              "        }\n",
              "      </script>\n",
              "    </div>\n",
              "  </div>\n",
              "  "
            ]
          },
          "metadata": {},
          "execution_count": 204
        }
      ]
    },
    {
      "cell_type": "code",
      "source": [
        "df.columns"
      ],
      "metadata": {
        "colab": {
          "base_uri": "https://localhost:8080/"
        },
        "id": "cxCSDV55MOto",
        "outputId": "7f32d4ae-d1c0-43b5-b372-094ba24917d1"
      },
      "execution_count": 167,
      "outputs": [
        {
          "output_type": "execute_result",
          "data": {
            "text/plain": [
              "Index(['link', 'service', 'city', 'adress', 'property_type', 'contract_type',\n",
              "       'rooms', 'squared_meters', 'buy_rent_currency', 'expensas_currency',\n",
              "       'buy_rent_price', 'expensas_price', 'total_price', '', '', '', '', '',\n",
              "       '', '', '', '', '', '', '', ''],\n",
              "      dtype='object')"
            ]
          },
          "metadata": {},
          "execution_count": 167
        }
      ]
    },
    {
      "cell_type": "code",
      "source": [],
      "metadata": {
        "id": "ciCBvnpaMaEu"
      },
      "execution_count": null,
      "outputs": []
    },
    {
      "cell_type": "code",
      "source": [
        "df.query('')"
      ],
      "metadata": {
        "colab": {
          "base_uri": "https://localhost:8080/",
          "height": 36
        },
        "id": "dHo1ouPeEiut",
        "outputId": "b28b39f7-219c-417c-e48b-e8c6bab45a3a"
      },
      "execution_count": 175,
      "outputs": [
        {
          "output_type": "execute_result",
          "data": {
            "text/plain": [
              "'NaN'"
            ],
            "application/vnd.google.colaboratory.intrinsic+json": {
              "type": "string"
            }
          },
          "metadata": {},
          "execution_count": 175
        }
      ]
    }
  ]
}