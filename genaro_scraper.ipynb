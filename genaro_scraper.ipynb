{
 "cells": [
  {
   "cell_type": "code",
   "execution_count": 1,
   "metadata": {},
   "outputs": [
    {
     "name": "stdout",
     "output_type": "stream",
     "text": [
      "Requirement already satisfied: selenium in c:\\users\\felipe\\miniconda3\\envs\\env_genaro\\lib\\site-packages (4.8.0)\n",
      "Requirement already satisfied: trio-websocket~=0.9 in c:\\users\\felipe\\miniconda3\\envs\\env_genaro\\lib\\site-packages (from selenium) (0.9.2)\n",
      "Requirement already satisfied: urllib3[socks]~=1.26 in c:\\users\\felipe\\miniconda3\\envs\\env_genaro\\lib\\site-packages (from selenium) (1.26.14)\n",
      "Requirement already satisfied: certifi>=2021.10.8 in c:\\users\\felipe\\miniconda3\\envs\\env_genaro\\lib\\site-packages (from selenium) (2022.12.7)\n",
      "Requirement already satisfied: trio~=0.17 in c:\\users\\felipe\\miniconda3\\envs\\env_genaro\\lib\\site-packages (from selenium) (0.22.0)\n",
      "Requirement already satisfied: sniffio in c:\\users\\felipe\\miniconda3\\envs\\env_genaro\\lib\\site-packages (from trio~=0.17->selenium) (1.3.0)\n",
      "Requirement already satisfied: sortedcontainers in c:\\users\\felipe\\miniconda3\\envs\\env_genaro\\lib\\site-packages (from trio~=0.17->selenium) (2.4.0)\n",
      "Requirement already satisfied: outcome in c:\\users\\felipe\\miniconda3\\envs\\env_genaro\\lib\\site-packages (from trio~=0.17->selenium) (1.2.0)\n",
      "Requirement already satisfied: cffi>=1.14 in c:\\users\\felipe\\miniconda3\\envs\\env_genaro\\lib\\site-packages (from trio~=0.17->selenium) (1.15.1)\n",
      "Requirement already satisfied: async-generator>=1.9 in c:\\users\\felipe\\miniconda3\\envs\\env_genaro\\lib\\site-packages (from trio~=0.17->selenium) (1.10)\n",
      "Requirement already satisfied: attrs>=19.2.0 in c:\\users\\felipe\\miniconda3\\envs\\env_genaro\\lib\\site-packages (from trio~=0.17->selenium) (22.2.0)\n",
      "Requirement already satisfied: idna in c:\\users\\felipe\\miniconda3\\envs\\env_genaro\\lib\\site-packages (from trio~=0.17->selenium) (3.4)\n",
      "Requirement already satisfied: exceptiongroup>=1.0.0rc9 in c:\\users\\felipe\\miniconda3\\envs\\env_genaro\\lib\\site-packages (from trio~=0.17->selenium) (1.1.0)\n",
      "Requirement already satisfied: wsproto>=0.14 in c:\\users\\felipe\\miniconda3\\envs\\env_genaro\\lib\\site-packages (from trio-websocket~=0.9->selenium) (1.2.0)\n",
      "Requirement already satisfied: PySocks!=1.5.7,<2.0,>=1.5.6 in c:\\users\\felipe\\miniconda3\\envs\\env_genaro\\lib\\site-packages (from urllib3[socks]~=1.26->selenium) (1.7.1)\n",
      "Requirement already satisfied: pycparser in c:\\users\\felipe\\miniconda3\\envs\\env_genaro\\lib\\site-packages (from cffi>=1.14->trio~=0.17->selenium) (2.21)\n",
      "Requirement already satisfied: h11<1,>=0.9.0 in c:\\users\\felipe\\miniconda3\\envs\\env_genaro\\lib\\site-packages (from wsproto>=0.14->trio-websocket~=0.9->selenium) (0.14.0)\n"
     ]
    },
    {
     "name": "stderr",
     "output_type": "stream",
     "text": [
      "C:\\Users\\Felipe\\AppData\\Local\\Temp\\ipykernel_7708\\1240755554.py:7: DeprecationWarning: headless property is deprecated, instead use add_argument('--headless') or add_argument('--headless=new')\n",
      "  chrome_options.headless = True\n"
     ]
    },
    {
     "name": "stdout",
     "output_type": "stream",
     "text": [
      "Requirement already satisfied: webdriver-manager in c:\\users\\felipe\\miniconda3\\envs\\env_genaro\\lib\\site-packages (3.8.5)\n",
      "Requirement already satisfied: requests in c:\\users\\felipe\\miniconda3\\envs\\env_genaro\\lib\\site-packages (from webdriver-manager) (2.28.2)\n",
      "Requirement already satisfied: packaging in c:\\users\\felipe\\miniconda3\\envs\\env_genaro\\lib\\site-packages (from webdriver-manager) (23.0)\n",
      "Requirement already satisfied: python-dotenv in c:\\users\\felipe\\miniconda3\\envs\\env_genaro\\lib\\site-packages (from webdriver-manager) (0.21.1)\n",
      "Requirement already satisfied: tqdm in c:\\users\\felipe\\miniconda3\\envs\\env_genaro\\lib\\site-packages (from webdriver-manager) (4.64.1)\n",
      "Requirement already satisfied: certifi>=2017.4.17 in c:\\users\\felipe\\miniconda3\\envs\\env_genaro\\lib\\site-packages (from requests->webdriver-manager) (2022.12.7)\n",
      "Requirement already satisfied: urllib3<1.27,>=1.21.1 in c:\\users\\felipe\\miniconda3\\envs\\env_genaro\\lib\\site-packages (from requests->webdriver-manager) (1.26.14)\n",
      "Requirement already satisfied: idna<4,>=2.5 in c:\\users\\felipe\\miniconda3\\envs\\env_genaro\\lib\\site-packages (from requests->webdriver-manager) (3.4)\n",
      "Requirement already satisfied: charset-normalizer<4,>=2 in c:\\users\\felipe\\miniconda3\\envs\\env_genaro\\lib\\site-packages (from requests->webdriver-manager) (3.0.1)\n",
      "Requirement already satisfied: colorama in c:\\users\\felipe\\appdata\\roaming\\python\\python310\\site-packages (from tqdm->webdriver-manager) (0.4.4)\n"
     ]
    }
   ],
   "source": [
    "# Selenium imports\n",
    "!pip install selenium\n",
    "from selenium import webdriver\n",
    "from selenium.webdriver.common.keys import Keys\n",
    "from selenium.webdriver.chrome.options import Options\n",
    "chrome_options = Options()\n",
    "chrome_options.headless = True\n",
    "!pip install webdriver-manager\n",
    "from webdriver_manager.chrome import ChromeDriverManager\n",
    "\n",
    "import regex as re"
   ]
  },
  {
   "attachments": {},
   "cell_type": "markdown",
   "metadata": {},
   "source": [
    "# Zonaprop"
   ]
  },
  {
   "cell_type": "code",
   "execution_count": null,
   "metadata": {},
   "outputs": [],
   "source": [
    "url = 'https://www.zonaprop.com.ar/inmuebles-alquiler.html'"
   ]
  },
  {
   "cell_type": "code",
   "execution_count": 7,
   "metadata": {},
   "outputs": [
    {
     "name": "stderr",
     "output_type": "stream",
     "text": [
      "[WDM] - Downloading: 100%|██████████| 6.79M/6.79M [00:00<00:00, 47.4MB/s]\n",
      "C:\\Users\\Felipe\\AppData\\Local\\Temp\\ipykernel_13632\\1503906442.py:1: DeprecationWarning: executable_path has been deprecated, please pass in a Service object\n",
      "  driver = webdriver.Chrome(ChromeDriverManager().install())\n"
     ]
    }
   ],
   "source": [
    "driver = webdriver.Chrome(ChromeDriverManager().install())"
   ]
  },
  {
   "cell_type": "code",
   "execution_count": 8,
   "metadata": {},
   "outputs": [],
   "source": [
    "driver.get(url)"
   ]
  },
  {
   "attachments": {},
   "cell_type": "markdown",
   "metadata": {},
   "source": [
    "# Argenprop"
   ]
  },
  {
   "cell_type": "code",
   "execution_count": 2,
   "metadata": {},
   "outputs": [],
   "source": [
    "# ARGENPROP WORKING CORRECTLY\n",
    "import requests\n",
    "from bs4 import BeautifulSoup\n",
    "\n",
    "headers = {\n",
    "    \"Accept-Language\": \"en-US,en;q=0.5\",\n",
    "    \"User-Agent\": \"Mozilla/5.0 (Windows NT 10.0; WOW64; rv:40.0) Gecko/20100101 Firefox/40.0\",\n",
    "    \"Accept\": \"text/html,application/xhtml+xml,application/xml;q=0.9,*/*;q=0.8\",\n",
    "    \"Referer\": \"http://thewebsite.com\",\n",
    "    \"Connection\": \"keep-alive\"}\n",
    "\n",
    "url_argenprop = 'https://www.argenprop.com/inmuebles-alquiler'\n",
    "\n",
    "\n",
    "result = requests.get(url_argenprop, headers=headers)\n",
    "\n",
    "soup = BeautifulSoup(result.text, 'lxml')\n",
    "\n",
    "# Links\n",
    "base_link = 'https://www.argenprop.com'\n",
    "div_container = soup.find_all('div',{'class':'listing__item'})\n",
    "links = []\n",
    "for div in div_container:\n",
    "    # print(div)\n",
    "    a_link = div.find_all('a', href=True)\n",
    "    last_link = a_link[0]['href']\n",
    "    links.append(base_link+last_link)\n",
    "\n",
    "# Ciudades\n",
    "ciudades = soup.find_all('p', {'class':'card__title--primary show-mobile'})\n",
    "ciudades = [c.text for c in ciudades]\n",
    "\n",
    "\n",
    "# Tipo de propiedad\n",
    "tipo_propiedad = soup.find_all('p', {'class':'card__title--primary hide-mobile'})\n",
    "tipo_propiedad = [c.text.split(' ')[0] for c in tipo_propiedad]\n",
    "\n",
    "\n",
    "# Ambientes\n",
    "ul_container = soup.find_all('ul', {'class':'card__main-features'})\n",
    "ambientes = []\n",
    "for ul in ul_container:\n",
    "    amb = re.findall('(\\d+)\\sambiente', str(ul.find_all('span')))\n",
    "    if len(amb)>0:\n",
    "        ambientes.append(int(amb[0]))\n",
    "    else:\n",
    "        ambientes.append(1)\n",
    "        \n"
   ]
  },
  {
   "cell_type": "code",
   "execution_count": 3,
   "metadata": {},
   "outputs": [
    {
     "data": {
      "text/plain": [
       "['https://www.argenprop.com/departamento-en-alquiler-en-palermo-hollywood-1-ambiente--3148844',\n",
       " 'https://www.argenprop.com/departamento-en-alquiler-en-palermo-chico-3-ambientes--11895172',\n",
       " 'https://www.argenprop.com/departamento-en-alquiler-en-palermo-4-ambientes--12144768',\n",
       " 'https://www.argenprop.com/departamento-en-alquiler-en-palermo--12495469',\n",
       " 'https://www.argenprop.com/galpon-en-alquiler-en-floresta-sur--12531985',\n",
       " 'https://www.argenprop.com/departamento-en-alquiler-en-palermo-chico-4-ambientes--12501912',\n",
       " 'https://www.argenprop.com/departamento-en-alquiler-en-flores-sur-3-ambientes--5995796',\n",
       " 'https://www.argenprop.com/departamento-en-alquiler-en-caballito-2-ambientes--11998483',\n",
       " 'https://www.argenprop.com/departamento-en-alquiler-en-caballito-3-ambientes--12516772',\n",
       " 'https://www.argenprop.com/departamento-en-alquiler-en-palermo-2-ambientes--12495341',\n",
       " 'https://www.argenprop.com/departamento-en-alquiler-en-recoleta-1-ambiente--11282674',\n",
       " 'https://www.argenprop.com/local-en-alquiler-en-tribunales--11624552',\n",
       " 'https://www.argenprop.com/departamento-en-alquiler-en-ramos-mejia-sur-2-ambientes--11727605',\n",
       " 'https://www.argenprop.com/departamento-en-alquiler-en-urquiza-r-2-ambientes--3346795',\n",
       " 'https://www.argenprop.com/departamento-en-alquiler-en-rosario-7-ambientes--12531286',\n",
       " 'https://www.argenprop.com/departamento-en-alquiler-en-palermo-3-ambientes--12499117',\n",
       " 'https://www.argenprop.com/departamento-en-alquiler-en-almagro-1-ambiente--5913008',\n",
       " 'https://www.argenprop.com/departamento-en-alquiler-en-recoleta-2-ambientes--9050610',\n",
       " 'https://www.argenprop.com/departamento-en-alquiler-en-palermo-3-ambientes--12084641',\n",
       " 'https://www.argenprop.com/departamento-en-alquiler-en-centro-4-ambientes--12526203']"
      ]
     },
     "execution_count": 3,
     "metadata": {},
     "output_type": "execute_result"
    }
   ],
   "source": [
    "links"
   ]
  }
 ],
 "metadata": {
  "kernelspec": {
   "display_name": "Python 3.10.9 ('env_genaro')",
   "language": "python",
   "name": "python3"
  },
  "language_info": {
   "codemirror_mode": {
    "name": "ipython",
    "version": 3
   },
   "file_extension": ".py",
   "mimetype": "text/x-python",
   "name": "python",
   "nbconvert_exporter": "python",
   "pygments_lexer": "ipython3",
   "version": "3.10.9"
  },
  "orig_nbformat": 4,
  "vscode": {
   "interpreter": {
    "hash": "6567508fa3bfac05bf4521aab509503ead7301d516d21054f504a09aa4795442"
   }
  }
 },
 "nbformat": 4,
 "nbformat_minor": 2
}
