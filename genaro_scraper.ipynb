{
 "cells": [
  {
   "cell_type": "code",
   "execution_count": 2,
   "metadata": {},
   "outputs": [
    {
     "name": "stdout",
     "output_type": "stream",
     "text": [
      "Requirement already satisfied: selenium in c:\\users\\felipe\\miniconda3\\envs\\env_genaro\\lib\\site-packages (4.8.0)\n",
      "Requirement already satisfied: certifi>=2021.10.8 in c:\\users\\felipe\\miniconda3\\envs\\env_genaro\\lib\\site-packages (from selenium) (2022.12.7)\n",
      "Requirement already satisfied: trio~=0.17 in c:\\users\\felipe\\miniconda3\\envs\\env_genaro\\lib\\site-packages (from selenium) (0.22.0)\n",
      "Requirement already satisfied: trio-websocket~=0.9 in c:\\users\\felipe\\miniconda3\\envs\\env_genaro\\lib\\site-packages (from selenium) (0.9.2)\n",
      "Requirement already satisfied: urllib3[socks]~=1.26 in c:\\users\\felipe\\miniconda3\\envs\\env_genaro\\lib\\site-packages (from selenium) (1.26.14)\n",
      "Requirement already satisfied: sniffio in c:\\users\\felipe\\miniconda3\\envs\\env_genaro\\lib\\site-packages (from trio~=0.17->selenium) (1.3.0)\n",
      "Requirement already satisfied: attrs>=19.2.0 in c:\\users\\felipe\\miniconda3\\envs\\env_genaro\\lib\\site-packages (from trio~=0.17->selenium) (22.2.0)\n",
      "Requirement already satisfied: idna in c:\\users\\felipe\\miniconda3\\envs\\env_genaro\\lib\\site-packages (from trio~=0.17->selenium) (3.4)\n",
      "Requirement already satisfied: async-generator>=1.9 in c:\\users\\felipe\\miniconda3\\envs\\env_genaro\\lib\\site-packages (from trio~=0.17->selenium) (1.10)\n",
      "Requirement already satisfied: cffi>=1.14 in c:\\users\\felipe\\miniconda3\\envs\\env_genaro\\lib\\site-packages (from trio~=0.17->selenium) (1.15.1)\n",
      "Requirement already satisfied: exceptiongroup>=1.0.0rc9 in c:\\users\\felipe\\miniconda3\\envs\\env_genaro\\lib\\site-packages (from trio~=0.17->selenium) (1.1.0)\n",
      "Requirement already satisfied: sortedcontainers in c:\\users\\felipe\\miniconda3\\envs\\env_genaro\\lib\\site-packages (from trio~=0.17->selenium) (2.4.0)\n",
      "Requirement already satisfied: outcome in c:\\users\\felipe\\miniconda3\\envs\\env_genaro\\lib\\site-packages (from trio~=0.17->selenium) (1.2.0)\n",
      "Requirement already satisfied: wsproto>=0.14 in c:\\users\\felipe\\miniconda3\\envs\\env_genaro\\lib\\site-packages (from trio-websocket~=0.9->selenium) (1.2.0)\n",
      "Requirement already satisfied: PySocks!=1.5.7,<2.0,>=1.5.6 in c:\\users\\felipe\\miniconda3\\envs\\env_genaro\\lib\\site-packages (from urllib3[socks]~=1.26->selenium) (1.7.1)\n",
      "Requirement already satisfied: pycparser in c:\\users\\felipe\\miniconda3\\envs\\env_genaro\\lib\\site-packages (from cffi>=1.14->trio~=0.17->selenium) (2.21)\n",
      "Requirement already satisfied: h11<1,>=0.9.0 in c:\\users\\felipe\\miniconda3\\envs\\env_genaro\\lib\\site-packages (from wsproto>=0.14->trio-websocket~=0.9->selenium) (0.14.0)\n"
     ]
    },
    {
     "name": "stderr",
     "output_type": "stream",
     "text": [
      "C:\\Users\\Felipe\\AppData\\Local\\Temp\\ipykernel_17992\\599045925.py:7: DeprecationWarning: headless property is deprecated, instead use add_argument('--headless') or add_argument('--headless=new')\n",
      "  chrome_options.headless = True\n"
     ]
    },
    {
     "name": "stdout",
     "output_type": "stream",
     "text": [
      "Requirement already satisfied: webdriver-manager in c:\\users\\felipe\\miniconda3\\envs\\env_genaro\\lib\\site-packages (3.8.5)\n",
      "Requirement already satisfied: tqdm in c:\\users\\felipe\\miniconda3\\envs\\env_genaro\\lib\\site-packages (from webdriver-manager) (4.64.1)\n",
      "Requirement already satisfied: python-dotenv in c:\\users\\felipe\\miniconda3\\envs\\env_genaro\\lib\\site-packages (from webdriver-manager) (0.21.1)\n",
      "Requirement already satisfied: packaging in c:\\users\\felipe\\miniconda3\\envs\\env_genaro\\lib\\site-packages (from webdriver-manager) (23.0)\n",
      "Requirement already satisfied: requests in c:\\users\\felipe\\miniconda3\\envs\\env_genaro\\lib\\site-packages (from webdriver-manager) (2.28.2)\n",
      "Requirement already satisfied: certifi>=2017.4.17 in c:\\users\\felipe\\miniconda3\\envs\\env_genaro\\lib\\site-packages (from requests->webdriver-manager) (2022.12.7)\n",
      "Requirement already satisfied: charset-normalizer<4,>=2 in c:\\users\\felipe\\miniconda3\\envs\\env_genaro\\lib\\site-packages (from requests->webdriver-manager) (3.0.1)\n",
      "Requirement already satisfied: idna<4,>=2.5 in c:\\users\\felipe\\miniconda3\\envs\\env_genaro\\lib\\site-packages (from requests->webdriver-manager) (3.4)\n",
      "Requirement already satisfied: urllib3<1.27,>=1.21.1 in c:\\users\\felipe\\miniconda3\\envs\\env_genaro\\lib\\site-packages (from requests->webdriver-manager) (1.26.14)\n",
      "Requirement already satisfied: colorama in c:\\users\\felipe\\appdata\\roaming\\python\\python310\\site-packages (from tqdm->webdriver-manager) (0.4.4)\n"
     ]
    }
   ],
   "source": [
    "# Selenium imports\n",
    "!pip install selenium\n",
    "from selenium import webdriver\n",
    "from selenium.webdriver.common.keys import Keys\n",
    "from selenium.webdriver.chrome.options import Options\n",
    "chrome_options = Options()\n",
    "chrome_options.headless = True\n",
    "!pip install webdriver-manager\n",
    "from webdriver_manager.chrome import ChromeDriverManager\n",
    "\n",
    "import pandas as pd\n",
    "import regex as re\n",
    "import requests\n",
    "from bs4 import BeautifulSoup"
   ]
  },
  {
   "cell_type": "code",
   "execution_count": 3,
   "metadata": {},
   "outputs": [],
   "source": [
    "# General Helpers\n",
    "\n",
    "def price_multiple_replace(text, dict=None):\n",
    "    \"\"\"\n",
    "    Multiple regex replacements (to replace in key, replacement in value) \n",
    "    \"\"\"\n",
    "    if not dict:\n",
    "        dict = {\",\" : \".\", \".\" : \"\"}\n",
    "        \n",
    "    # Create a regular expression  from the dictionary keys\n",
    "    regex = re.compile(\"(%s)\" % \"|\".join(map(re.escape, dict.keys())))\n",
    "    \n",
    "    # For each match, look-up corresponding value in dictionary\n",
    "    return float(regex.sub(lambda mo: dict[mo.string[mo.start():mo.end()]], text))"
   ]
  },
  {
   "attachments": {},
   "cell_type": "markdown",
   "metadata": {},
   "source": [
    "# Argenprop"
   ]
  },
  {
   "cell_type": "code",
   "execution_count": 94,
   "metadata": {},
   "outputs": [],
   "source": [
    "headers = {\n",
    "    \"Accept-Language\": \"en-US,en;q=0.5\",\n",
    "    \"User-Agent\": \"Mozilla/5.0 (Windows NT 10.0; WOW64; rv:40.0) Gecko/20100101 Firefox/40.0\",\n",
    "    \"Accept\": \"text/html,application/xhtml+xml,application/xml;q=0.9,*/*;q=0.8\",\n",
    "    \"Referer\": \"http://thewebsite.com\",\n",
    "    \"Connection\": \"keep-alive\"}\n",
    "\n",
    "url_argenprop = 'https://www.argenprop.com/departamento-y-casa-venta-y-alquiler-y-alquiler-temporal-pagina-'\n",
    "\n",
    "cantidad_paginas_a_scrapear = 10\n",
    "\n",
    "# for pag in range(cantidad_paginas_a_scrapear):\n",
    "\n",
    "result_ap = requests.get(url_argenprop, headers=headers)\n",
    "\n",
    "soup_ap = BeautifulSoup(result_ap.text, 'lxml')"
   ]
  },
  {
   "cell_type": "code",
   "execution_count": 95,
   "metadata": {},
   "outputs": [],
   "source": [
    "all_columns_ap = []\n",
    "\n",
    "\n",
    "# Links\n",
    "base_link = 'https://www.argenprop.com'\n",
    "div_container = soup_ap.find_all('div',{'class':'listing__item'})\n",
    "links_ap = []\n",
    "for div in div_container:\n",
    "    a_link = div.find_all('a', href=True)\n",
    "    last_link = a_link[0]['href']\n",
    "    links_ap.append(base_link+last_link)\n",
    "all_columns_ap.append(links_ap)\n",
    "\n",
    "\n",
    "# Service\n",
    "all_columns_ap.append(['argenprop']*len(links_ap))\n",
    "\n",
    "\n",
    "# City\n",
    "city_ap = soup_ap.find_all('p', {'class':'card__title--primary show-mobile'})\n",
    "city_ap = [c.text for c in city_ap]\n",
    "all_columns_ap.append(city_ap)\n",
    "\n",
    "# Adress\n",
    "address_ap = soup_ap.find_all('h2', {'class':'card__address'})\n",
    "address_ap = [c.text.strip() for c in address_ap]\n",
    "address_ap = [re.findall('.+', str(c))[0] for c in address_ap]\n",
    "all_columns_ap.append(address_ap)\n",
    "\n",
    "# Property Type\n",
    "property_type_ap = soup_ap.find_all('p', {'class':'card__title--primary hide-mobile'})\n",
    "property_type_ap = [c.text.split(' ')[0] for c in property_type_ap]\n",
    "all_columns_ap.append(property_type_ap)\n",
    "\n",
    "# Contract type\n",
    "contract_type_ap = soup_ap.find_all('p', {'class':'card__title--primary hide-mobile'})\n",
    "contract_type_ap = [c.text.split(' ')[2] for c in contract_type_ap]\n",
    "all_columns_ap.append(contract_type_ap)\n",
    "\n",
    "# Rooms\n",
    "ul_container = soup_ap.find_all('ul', {'class':'card__main-features'})\n",
    "rooms_ap = []\n",
    "for ul in ul_container:\n",
    "    amb = re.findall('(\\d+)\\sambiente', str(ul.find_all('span')))\n",
    "    if len(amb)>0:\n",
    "        rooms_ap.append(int(amb[0]))\n",
    "    else:\n",
    "        rooms_ap.append(1)\n",
    "all_columns_ap.append(rooms_ap)\n",
    "\n",
    "\n",
    "# Price and currency type\n",
    "buy_rent_currency_ap = []\n",
    "buy_rent_price_ap = []\n",
    "\n",
    "expensas_currency_ap = []\n",
    "expensas_price_ap = []\n",
    "\n",
    "all_currency_and_price_ap = soup_ap.find_all('p', {'class':'card__price'})\n",
    "all_currency_and_price_ap = [c.text for c in all_currency_and_price_ap]\n",
    "all_currency_and_price_ap = [re.findall('(USD|\\$)\\s?(\\d+(?:[,.]\\d+)*)', str(c)) for c in all_currency_and_price_ap]\n",
    "\n",
    "for cp in all_currency_and_price_ap:\n",
    "    if len(cp)>0:\n",
    "        buy_rent_currency_ap.append(cp[0][0])\n",
    "        buy_rent_price_ap.append(price_multiple_replace(cp[0][1]))\n",
    "        if len(cp)>1:\n",
    "            expensas_currency_ap.append(cp[1][0])\n",
    "            expensas_price_ap.append(price_multiple_replace(cp[1][1]))\n",
    "        else:\n",
    "            expensas_currency_ap.append('consultar_precio')\n",
    "            expensas_price_ap.append(0)\n",
    "    else:\n",
    "        buy_rent_currency_ap.append('consultar_precio')\n",
    "        buy_rent_price_ap.append(0)\n",
    "        expensas_currency_ap.append('consultar_precio')\n",
    "        expensas_price_ap.append(0)\n",
    "        \n",
    "all_columns_ap.append(buy_rent_currency_ap)\n",
    "all_columns_ap.append(expensas_currency_ap)\n",
    "all_columns_ap.append(buy_rent_price_ap)\n",
    "all_columns_ap.append(expensas_price_ap)"
   ]
  },
  {
   "attachments": {},
   "cell_type": "markdown",
   "metadata": {},
   "source": [
    "# Mercado Libre"
   ]
  },
  {
   "cell_type": "code",
   "execution_count": 89,
   "metadata": {},
   "outputs": [],
   "source": [
    "# Helpers\n",
    "def get_expensas_price(links):\n",
    "    \n",
    "    \"\"\"\n",
    "    For Mercado Libre\n",
    "    \"\"\"\n",
    "    expensas_price = []\n",
    "\n",
    "    link_expensas = [l for l in links if 'departamento' in l]\n",
    "\n",
    "    for l_expensas in link_expensas:\n",
    "        result = requests.get(l_expensas, headers=headers)\n",
    "        soup = BeautifulSoup(result.text, 'lxml')\n",
    "        try:\n",
    "            exp = soup.find('p', {'class':'ui-pdp-color--GRAY ui-pdp-size--XSMALL ui-pdp-family--REGULAR ui-pdp-maintenance-fee-ltr'}).text\n",
    "        except:\n",
    "            exp = '0'\n",
    "        expensas_price.append(exp)\n",
    "\n",
    "    expensas_price = [re.findall('\\d+(?:[,.]\\d+)*', ex)[0] for ex in expensas_price]\n",
    "    expensas_price = [int(price_multiple_replace(c)) for c in expensas_price]\n",
    "    \n",
    "    return expensas_price"
   ]
  },
  {
   "cell_type": "code",
   "execution_count": 90,
   "metadata": {},
   "outputs": [],
   "source": [
    "headers = {\n",
    "    \"Accept-Language\": \"en-US,en;q=0.5\",\n",
    "    \"User-Agent\": \"Mozilla/5.0 (Windows NT 10.0; WOW64; rv:40.0) Gecko/20100101 Firefox/40.0\",\n",
    "    \"Accept\": \"text/html,application/xhtml+xml,application/xml;q=0.9,*/*;q=0.8\",\n",
    "    \"Referer\": \"http://thewebsite.com\",\n",
    "    \"Connection\": \"keep-alive\"}\n",
    "\n",
    "url_ml = 'https://inmuebles.mercadolibre.com.ar/departamentos/'\n",
    "\n",
    "\n",
    "result_ml = requests.get(url_ml, headers=headers)\n",
    "\n",
    "soup_ml = BeautifulSoup(result_ml.text, 'lxml')"
   ]
  },
  {
   "cell_type": "code",
   "execution_count": 91,
   "metadata": {},
   "outputs": [],
   "source": [
    "all_columns_ml = []\n",
    "\n",
    "\n",
    "# Links\n",
    "div_container = soup_ml.find_all('div',{'class':'ui-search-result__wrapper shops__result-wrapper'})\n",
    "links_ml = []\n",
    "for div in div_container:\n",
    "    a_link = div.find_all('a', href=True)\n",
    "    link = a_link[0]['href']\n",
    "    links_ml.append(link)\n",
    "all_columns_ml.append(links_ml)\n",
    "\n",
    "# Service\n",
    "all_columns_ml.append(['mercado_libre']*len(links_ml))\n",
    "\n",
    "# City\n",
    "city_ml = soup_ml.find_all('span', {'class':'ui-search-item__group__element ui-search-item__location shops__items-group-details'})\n",
    "city_ml = [c.text for c in city_ml]\n",
    "all_columns_ml.append(city_ml)\n",
    "\n",
    "\n",
    "# Adress\n",
    "address_ml = soup_ml.find_all('span', {'class':'ui-search-item__group__element ui-search-item__location shops__items-group-details'})\n",
    "address_ml = [c.text.split(',')[0] for c in address_ml]\n",
    "all_columns_ml.append(address_ml)\n",
    "\n",
    "# Property type\n",
    "property_type_ml = soup_ml.find_all('span', {'class':'ui-search-item__group__element ui-search-item__subtitle shops__items-group-details'})\n",
    "property_type_ml = [c.text.split(' en ')[0] for c in property_type_ml]\n",
    "all_columns_ml.append(property_type_ml)\n",
    "\n",
    "# Contract type\n",
    "contract_type_ml = soup_ml.find_all('span', {'class':'ui-search-item__group__element ui-search-item__subtitle shops__items-group-details'})\n",
    "contract_type_ml = [c.text.split(' en ')[-1] for c in contract_type_ml]\n",
    "all_columns_ml.append(contract_type_ml)\n",
    "\n",
    "# Rooms\n",
    "rooms_ml = soup_ml.find_all('li', {'class':'ui-search-card-attributes__attribute'})\n",
    "rooms_ml = [int(c.text.split(' ')[0]) for c in rooms_ml if 'm²' not in c.text]\n",
    "all_columns_ml.append(rooms_ml)\n",
    "\n",
    "\n",
    "# All Currency type\n",
    "buy_rent_currency_ml = soup_ml.find_all('span', {'class':'price-tag-symbol'})\n",
    "buy_rent_currency_ml = [c.text.replace('U$S', 'USD') for c in buy_rent_currency_ml]\n",
    "buy_rent_currency_ml = buy_rent_currency_ml[len(buy_rent_currency_ml)-len(links_ml):] # Eliminate those with no link\n",
    "expensas_currency_ml = ['$']*len(links_ml)\n",
    "all_columns_ml.append(buy_rent_currency_ml)\n",
    "all_columns_ml.append(expensas_currency_ml)\n",
    "\n",
    "\n",
    "# Buy Rent Price\n",
    "buy_rent_price_ml = []\n",
    "buy_rent_price_ml = soup_ml.find_all('span', {'class':'price-tag-fraction'})\n",
    "buy_rent_price_ml = [c.text for c in buy_rent_price_ml]\n",
    "buy_rent_price_ml = [int(price_multiple_replace(c)) for c in buy_rent_price_ml]\n",
    "buy_rent_price_ml = buy_rent_price_ml[len(buy_rent_price_ml)-len(links_ml):] # Eliminate those with no link\n",
    "all_columns_ml.append(buy_rent_price_ml)\n",
    "\n",
    "\n",
    "# Expensas Price\n",
    "scrap_expensas_ML = True\n",
    "if scrap_expensas_ML:\n",
    "   expensas_price = get_expensas_price(links_ml)\n",
    "else:\n",
    "    expensas_price = [0]*len(links_ml)\n",
    "all_columns_ml.append(expensas_price)"
   ]
  },
  {
   "attachments": {},
   "cell_type": "markdown",
   "metadata": {},
   "source": [
    "# Dataframe"
   ]
  },
  {
   "cell_type": "code",
   "execution_count": 96,
   "metadata": {},
   "outputs": [],
   "source": [
    "all_columns = []\n",
    "\n",
    "for i in range(len(all_columns_ml)):\n",
    "    all_columns.append(all_columns_ml[i]+all_columns_ap[i])"
   ]
  },
  {
   "cell_type": "code",
   "execution_count": 110,
   "metadata": {},
   "outputs": [],
   "source": [
    "col_names = ['links','service','adress','city','property_type','contract_type','rooms','buy_rent_currency','expensas_currency','buy_rent_price','expensas_price']\n",
    "df = pd.DataFrame(all_columns).T\n",
    "df.columns = col_names"
   ]
  },
  {
   "cell_type": "markdown",
   "metadata": {},
   "source": [
    "# Zonaprop"
   ]
  },
  {
   "cell_type": "code",
   "execution_count": 122,
   "metadata": {},
   "outputs": [
    {
     "data": {
      "text/plain": [
       "403"
      ]
     },
     "execution_count": 122,
     "metadata": {},
     "output_type": "execute_result"
    }
   ],
   "source": [
    "headers = {\n",
    "    \"Accept-Language\": \"en-US,en;q=0.5\",\n",
    "    \"User-Agent\": \"Mozilla/5.0 (Windows NT 10.0; WOW64; rv:40.0) Gecko/20100101 Firefox/40.0\",\n",
    "    \"Accept\": \"text/html,application/xhtml+xml,application/xml;q=0.9,*/*;q=0.8\",\n",
    "    \"Referer\": \"http://thewebsite.com\",\n",
    "    \"Connection\": \"keep-alive\"}\n",
    "\n",
    "url_zp = 'https://www.zonaprop.com.ar/inmuebles-alquiler.html'\n",
    "\n",
    "\n",
    "result_zp = requests.get(url_zp, headers=headers)\n",
    "\n",
    "result_zp.status_code"
   ]
  },
  {
   "cell_type": "code",
   "execution_count": 123,
   "metadata": {},
   "outputs": [],
   "source": [
    "url_zp = 'https://www.zonaprop.com.ar/inmuebles-alquiler.html'"
   ]
  },
  {
   "cell_type": "code",
   "execution_count": 124,
   "metadata": {},
   "outputs": [
    {
     "name": "stderr",
     "output_type": "stream",
     "text": [
      "[WDM] - Downloading: 100%|██████████| 6.79M/6.79M [00:00<00:00, 52.9MB/s]\n",
      "C:\\Users\\Felipe\\AppData\\Local\\Temp\\ipykernel_17992\\1503906442.py:1: DeprecationWarning: executable_path has been deprecated, please pass in a Service object\n",
      "  driver = webdriver.Chrome(ChromeDriverManager().install())\n"
     ]
    }
   ],
   "source": [
    "driver = webdriver.Chrome(ChromeDriverManager().install())"
   ]
  },
  {
   "cell_type": "code",
   "execution_count": 125,
   "metadata": {},
   "outputs": [],
   "source": [
    "driver.get(url_zp)"
   ]
  },
  {
   "cell_type": "code",
   "execution_count": null,
   "metadata": {},
   "outputs": [],
   "source": []
  }
 ],
 "metadata": {
  "kernelspec": {
   "display_name": "Python 3.10.9 ('env_genaro')",
   "language": "python",
   "name": "python3"
  },
  "language_info": {
   "codemirror_mode": {
    "name": "ipython",
    "version": 3
   },
   "file_extension": ".py",
   "mimetype": "text/x-python",
   "name": "python",
   "nbconvert_exporter": "python",
   "pygments_lexer": "ipython3",
   "version": "3.10.9"
  },
  "orig_nbformat": 4,
  "vscode": {
   "interpreter": {
    "hash": "6567508fa3bfac05bf4521aab509503ead7301d516d21054f504a09aa4795442"
   }
  }
 },
 "nbformat": 4,
 "nbformat_minor": 2
}
